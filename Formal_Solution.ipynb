{
 "cells": [
  {
   "cell_type": "markdown",
   "metadata": {},
   "source": [
    "# The FeatureSpace Intern Recruitment Challenge: Compromise point detection"
   ]
  },
  {
   "cell_type": "markdown",
   "metadata": {},
   "source": [
    "## I will tackle the problem by progressively answering the following 4 questions:\n",
    "1. What is the tentative exploitation period of the compromise\n",
    "2. What is the common point of compromise\n",
    "3. What is the harvest period of the compromise\n",
    "4. (validation purpose) Validate the dates of exploitation\n",
    "5. (validation purpose) Final Analysis and Theory Validation"
   ]
  },
  {
   "cell_type": "markdown",
   "metadata": {},
   "source": [
    "#### Pre-processing data"
   ]
  },
  {
   "cell_type": "code",
   "execution_count": 1,
   "metadata": {
    "collapsed": true
   },
   "outputs": [],
   "source": [
    "'''Import all relative library'''\n",
    "import pandas as pd\n",
    "from pandas import DataFrame as df\n",
    "import numpy as np\n",
    "import matplotlib\n",
    "from matplotlib import pyplot as plt"
   ]
  },
  {
   "cell_type": "code",
   "execution_count": 2,
   "metadata": {
    "scrolled": true
   },
   "outputs": [],
   "source": [
    "'''Do data preprocessing'''\n",
    "# read raw data\n",
    "raw_data = pd.read_csv(\"input.csv\")\n",
    "\n",
    "# convert date data to formal format\n",
    "raw_data['date'] = pd.to_datetime(raw_data['date'])  \n",
    "\n",
    "# convert account and merchant into no.'s\n",
    "raw_data.loc[:, ['merchant', 'account']] = raw_data.loc[:, ['merchant', 'account']].applymap(lambda x: int(x[1:]))\n",
    "\n",
    "# Gather names of merchants and accounts\n",
    "merchants = set(raw_data['merchant']) \n",
    "accounts = set(raw_data['account'])"
   ]
  },
  {
   "cell_type": "markdown",
   "metadata": {},
   "source": [
    "## Q1. What is the tentative exploitation period\n",
    "#### Count fraud rate on each day\n",
    "#### The unusually fraud rate should represent that the frauds committed on that day are not opportunistic, but are due to artificial compromise"
   ]
  },
  {
   "cell_type": "code",
   "execution_count": 3,
   "metadata": {},
   "outputs": [
    {
     "data": {
      "image/png": "[encoded data removed]",
      "text/plain": [
       "<matplotlib.figure.Figure at 0x110f77080>"
      ]
     },
     "metadata": {},
     "output_type": "display_data"
    }
   ],
   "source": [
    "# get overall fraud rate on each day\n",
    "fraud_col = raw_data.groupby(by='date')['fraud']\n",
    "fraud_rate_by_date = df(fraud_col.apply(lambda x: (x==True).sum() / float(len(x))))\n",
    "fraud_rate_by_date.plot()\n",
    "plt.show()"
   ]
  },
  {
   "cell_type": "markdown",
   "metadata": {},
   "source": [
    "* Aparently, we can now locate the tentative exploit point of compromise, which last from __01-21 to 01-23__\n",
    "* Further analysis would be to analyze the common point of the defrauded accounts and thereby get the point of compromise"
   ]
  },
  {
   "cell_type": "markdown",
   "metadata": {},
   "source": [
    "### Answer: The *tentative* exploitation period include the period from Jan 21 to Jan 23\n",
    "#### A quantified method to extract exploitation period"
   ]
  },
  {
   "cell_type": "code",
   "execution_count": 4,
   "metadata": {},
   "outputs": [
    {
     "name": "stdout",
     "output_type": "stream",
     "text": [
      "The tentative exploitation dates are:  [Timestamp('2015-01-21 00:00:00'), Timestamp('2015-01-22 00:00:00'), Timestamp('2015-01-23 00:00:00')]\n"
     ]
    }
   ],
   "source": [
    "'''Tentative answer for exploitation period of compromise'''\n",
    "# consider the date that have a fraud rate higher than 150% of the average fraud rate\n",
    "exp_thresh = fraud_rate_by_date.mean() * 1.5\n",
    "exp_dates = fraud_rate_by_date[fraud_rate_by_date > exp_thresh].dropna()\n",
    "exp_dates = [date for date in exp_dates.index]\n",
    "print('The tentative exploitation dates are: ', exp_dates)"
   ]
  },
  {
   "cell_type": "markdown",
   "metadata": {},
   "source": [
    "* __It can be hard to ensure that the these dates with abnormally high fraud rate contains all the exploitation dates, further examination is needed__"
   ]
  },
  {
   "cell_type": "markdown",
   "metadata": {},
   "source": [
    "## Q2. What is the common point of compromise\n",
    "#### First, get the tentative defruaded accounts based on fraud activity during tentative exploitation period"
   ]
  },
  {
   "cell_type": "markdown",
   "metadata": {},
   "source": [
    "##### The following cells are aiming at getting a threshold that help to distinguish opportunistically defrauded accounts from those defrauded due to compromise. The threshold is the number of frauds an account commits during the exploitation period on each day. The threshold aims to eliminate 95% of the opportunistically defrauded accounts.\n",
    "##### The method taken is to calculate the probablity for an opportunistically defruaded account to commit N fraud(s) on a day, and find an N that corresponds to a cumulative probablity of above 95%. This N will be chosen as the threshold, as above 95% of the opportunistically defrauded accounts would commit a number of frauds lower than this threshold."
   ]
  },
  {
   "cell_type": "code",
   "execution_count": 5,
   "metadata": {},
   "outputs": [],
   "source": [
    "'''Get all the probablities for an opportunistically defrauded account to commit N fraud on a day'''\n",
    "# get the opportunistic fraud number for each account on each day (excluding tentative exploitation period)\n",
    "normal_fraud_data = raw_data.loc[-raw_data.date.isin(exp_dates)].groupby(by=['date', 'account'])['fraud']\n",
    "normal_fraud_data = normal_fraud_data.sum() \n",
    "\n",
    "# calculate the opportunisitic fraud probability for N fraud(s) a day an account\n",
    "N_fraud_probability = []\n",
    "for i in range(int(normal_fraud_data.max())+1):\n",
    "    count = len(normal_fraud_data.loc[normal_fraud_data==i])\n",
    "    N_fraud_probability.append(count / (30 * len(accounts)))\n",
    "\n",
    "# calculate the cummulative probablity of N_fraud_probability\n",
    "# this cum_prob indicate the probablity that an opportunistically defrauded account commit N or less fraud a day\n",
    "N_fraud_cum_probablility = []\n",
    "for i in range(1, int(normal_fraud_data.max())+1):\n",
    "    N_fraud_cum_probablility.append((sum(N_fraud_probability[1:i+1]) / sum(N_fraud_probability[1:])))"
   ]
  },
  {
   "cell_type": "code",
   "execution_count": 6,
   "metadata": {},
   "outputs": [
    {
     "name": "stdout",
     "output_type": "stream",
     "text": [
      "During the tentative exploitation period, any account that commit less than or equal to 1 fraud(s) will be excluded, which can theoretically exclude 0.9847133757961783 of the opportunistically defrauded accounts\n"
     ]
    }
   ],
   "source": [
    "'''determine the thresh with 95 percent confidence'''\n",
    "defrauded_account_thresh = 0\n",
    "cum_prob = 0\n",
    "for i, prob in enumerate(N_fraud_cum_probablility):\n",
    "    if prob > 0.95:\n",
    "        defrauded_account_thresh = i+1\n",
    "        cum_prob = prob\n",
    "        break\n",
    "print(\"During the tentative exploitation period, any account that commit less than or equal to\", defrauded_account_thresh,\\\n",
    "     \"fraud(s) will be excluded, which can theoretically exclude\", cum_prob, \"of the opportunistically defrauded accounts\")"
   ]
  },
  {
   "cell_type": "code",
   "execution_count": 7,
   "metadata": {},
   "outputs": [
    {
     "name": "stdout",
     "output_type": "stream",
     "text": [
      "55  tentative defrauded accounts captured\n",
      "They are account no. {896, 645, 8, 648, 395, 907, 781, 403, 787, 665, 154, 793, 921, 541, 802, 420, 37, 167, 40, 425, 551, 299, 556, 809, 430, 943, 817, 434, 951, 952, 825, 699, 701, 704, 581, 837, 841, 203, 461, 334, 336, 728, 603, 731, 349, 991, 353, 355, 743, 746, 111, 882, 116, 119, 381}\n"
     ]
    }
   ],
   "source": [
    "'''Get the tentative defrauded acccounts set'''\n",
    "# get transaction data during the exp period\n",
    "data_during_exp = raw_data.loc[(raw_data.date >= exp_dates[0]) & (raw_data.date <= exp_dates[-1])]\n",
    "\n",
    "# get all fraudulant transactions during the exp period\n",
    "defraud_data = data_during_exp[data_during_exp.fraud == True]\n",
    "\n",
    "# collect defrauded_accounts that at least commit fraud_account_thresh frauds on any of the days during exploitation\n",
    "tentative_defrauded_accounts = set()\n",
    "account_fraud = defraud_data.groupby(by=['account', 'date']).count()\n",
    "for account in accounts:\n",
    "    for date in exp_dates:\n",
    "        try:\n",
    "            if account_fraud.loc[(account, date)]['fraud'] > defrauded_account_thresh:\n",
    "                tentative_defrauded_accounts.add(account)\n",
    "        except:\n",
    "            pass\n",
    "\n",
    "# count how many defrauded accounts are captured\n",
    "tentative_defrauded_accounts_no = len(tentative_defrauded_accounts)\n",
    "print(tentative_defrauded_accounts_no, \" tentative defrauded accounts captured\")\n",
    "print('They are account no.', tentative_defrauded_accounts)"
   ]
  },
  {
   "cell_type": "markdown",
   "metadata": {},
   "source": [
    "#### Analyze the activity of tentative defrauded accounts with each merchant"
   ]
  },
  {
   "cell_type": "code",
   "execution_count": 8,
   "metadata": {},
   "outputs": [
    {
     "data": {
      "image/png": "[encoded data removed]",
      "text/plain": [
       "<matplotlib.figure.Figure at 0x110f50da0>"
      ]
     },
     "metadata": {},
     "output_type": "display_data"
    }
   ],
   "source": [
    "'''Analyze the correlation between the defrauded accounts and each merchant'''\n",
    "# get a list of merchants that each account has had transaction(s) before\n",
    "# get transactions before date of exploitation, and only of defrauded accounts\n",
    "data_before_exp = raw_data.loc[(raw_data.date < exp_dates[0]) & raw_data.account.isin(tentative_defrauded_accounts)]\n",
    "\n",
    "# get the ratio of the number of defrauded accounts each merchant has had transactions with and number of all defrauded accounts\n",
    "account_merchant = data_before_exp.groupby(by='merchant')['account'].apply(lambda x: len(set(x)) / tentative_defrauded_accounts_no)\n",
    "\n",
    "# display result\n",
    "account_merchant.plot(title='The number of defrauded accounts each merchant has had transactions / number of all defrauded accounts')\n",
    "plt.show()"
   ]
  },
  {
   "cell_type": "markdown",
   "metadata": {},
   "source": [
    "### Analysis\n",
    "* The analysis show that, for those __tentative defrauded accounts__ (which committed at least 2 fraud during the exploit period) all have transacted wiht __M18__, while comparitively, for most of the other merchants, only around half of these defrauded accounts have had transaction with them respectively.\n",
    "* It can be concluded with high confidence that __M18 is the common point of compromise__, from the aforementioned extreme correlation"
   ]
  },
  {
   "cell_type": "markdown",
   "metadata": {},
   "source": [
    "### Answer: M18 is the common point of compromise\n",
    "#### A quantified method to get the compromised merchant"
   ]
  },
  {
   "cell_type": "code",
   "execution_count": 9,
   "metadata": {},
   "outputs": [
    {
     "name": "stdout",
     "output_type": "stream",
     "text": [
      "The compromised merchant is: M 18\n"
     ]
    }
   ],
   "source": [
    "'''Answer for common point of compromise'''\n",
    "compromised_merchant = account_merchant.argmax()\n",
    "print(\"The compromised merchant is: M\", compromised_merchant)"
   ]
  },
  {
   "cell_type": "markdown",
   "metadata": {},
   "source": [
    "## Q3. What is the Harvest period\n",
    "#### analysis of the transaction activity between tentative defrauded accounts and compromised merchant"
   ]
  },
  {
   "cell_type": "code",
   "execution_count": 10,
   "metadata": {},
   "outputs": [
    {
     "data": {
      "image/png": "[encoded data removed]",
      "text/plain": [
       "<matplotlib.figure.Figure at 0x10ff0b390>"
      ]
     },
     "metadata": {},
     "output_type": "display_data"
    }
   ],
   "source": [
    "'''Analyze transaction activity of tentative defrauded accounts with compromised merchant'''\n",
    "# get tentative defrauded accounts' activity with compromise merchant\n",
    "# get only data related to defrauded accounts\n",
    "tentative_defrauded_accounts_data = raw_data[raw_data.account.isin(tentative_defrauded_accounts) & \\\n",
    "                                   (raw_data.merchant == compromised_merchant)]\n",
    "# count transactions of tentative defrauded accounts with each merchants on each day\n",
    "tentative_defrauded_accounts_data = tentative_defrauded_accounts_data.loc[:, ['date', 'account']]\n",
    "transaction_no_data = tentative_defrauded_accounts_data.groupby(by='date')\n",
    "transaction_no_data = transaction_no_data.count()\n",
    "\n",
    "# display data\n",
    "transaction_no_data.plot()\n",
    "plt.show()"
   ]
  },
  {
   "cell_type": "markdown",
   "metadata": {},
   "source": [
    "### Analysis\n",
    "* The defrauded accounts all had __unusually large number of transactions__ with the compromised merchant between __Jan 15 and Jan 16__, which according to theory, represents the harvest period"
   ]
  },
  {
   "cell_type": "markdown",
   "metadata": {},
   "source": [
    "### Answer: The harvest lasted from Jan 15 to Jan 16\n",
    "#### a quantified method to get the harvest period"
   ]
  },
  {
   "cell_type": "code",
   "execution_count": 11,
   "metadata": {},
   "outputs": [
    {
     "name": "stdout",
     "output_type": "stream",
     "text": [
      "The harvest periods include dates:  [Timestamp('2015-01-15 00:00:00'), Timestamp('2015-01-16 00:00:00')]\n"
     ]
    }
   ],
   "source": [
    "'''Answer for harvest period of compromise'''\n",
    "# consider dates when tentative defrauded accounts had abnormally large volumn of transactions with compromised merchant\n",
    "harvest_thresh = transaction_no_data.mean() * 1.5\n",
    "harvest_dates = transaction_no_data[transaction_no_data > harvest_thresh].dropna()\n",
    "harvest_dates = [date for date in harvest_dates.index]\n",
    "print('The harvest periods include dates: ', harvest_dates)"
   ]
  },
  {
   "cell_type": "markdown",
   "metadata": {},
   "source": [
    "## Q4. Validate dates of exploitation\n",
    "#### essentially a validation for the initial guess of exploitation dates"
   ]
  },
  {
   "cell_type": "markdown",
   "metadata": {},
   "source": [
    "#### get the actual defrauded accounts based on transaction data during the harvest period, and calculate the actual dates of exploitation based on this new defrauded accounts"
   ]
  },
  {
   "cell_type": "code",
   "execution_count": 12,
   "metadata": {},
   "outputs": [
    {
     "name": "stdout",
     "output_type": "stream",
     "text": [
      "53  defrauded accounts captured\n"
     ]
    }
   ],
   "source": [
    "'''Get the actual defrauded accounts'''\n",
    "# assuming all accounts that transacted on the common point of compromise during the harvest period are the actual defrauded accounts\n",
    "defrauded_accounts = set(raw_data.loc[(raw_data.merchant==compromised_merchant) & raw_data.date.isin(harvest_dates)]['account'])\n",
    "defrauded_accounts_no = len(defrauded_accounts)\n",
    "print(defrauded_accounts_no, \" defrauded accounts captured\")"
   ]
  },
  {
   "cell_type": "code",
   "execution_count": 13,
   "metadata": {},
   "outputs": [],
   "source": [
    "'''Analyze fraudulant transaction activity of defrauded accounts'''\n",
    "# get defrauded accounts' fraudulant transaction no on each day\n",
    "# get only fraud related to defrauded accounts\n",
    "defrauded_accounts_data = raw_data[raw_data.account.isin(defrauded_accounts) & raw_data.fraud]\n",
    "# count fruadulant transactions of defrauded accounts with each merchants on each day\n",
    "defrauded_accounts_data = defrauded_accounts_data.loc[:, ['date', 'merchant']]\n",
    "fraud_no_data = defrauded_accounts_data.groupby(by='date')\n",
    "fraud_no_data = fraud_no_data.count()"
   ]
  },
  {
   "cell_type": "markdown",
   "metadata": {},
   "source": [
    "#### Recalculate the exploitation period based on a confident defrauded account set"
   ]
  },
  {
   "cell_type": "code",
   "execution_count": 14,
   "metadata": {},
   "outputs": [
    {
     "name": "stdout",
     "output_type": "stream",
     "text": [
      "The exploitation dates are:  [Timestamp('2015-01-21 00:00:00'), Timestamp('2015-01-22 00:00:00'), Timestamp('2015-01-23 00:00:00')]\n"
     ]
    }
   ],
   "source": [
    "'''Final answer for exploitation period of compromise'''\n",
    "# consider the date that have a fraud activity higher than 150% of the average fraud rate\n",
    "exp_thresh = fraud_no_data.mean() * 1.5\n",
    "exp_dates = fraud_no_data[fraud_no_data > exp_thresh].dropna()\n",
    "exp_dates = [date for date in exp_dates.index]\n",
    "print('The exploitation dates are: ', exp_dates)"
   ]
  },
  {
   "cell_type": "markdown",
   "metadata": {},
   "source": [
    "## P5. Final overall analysis and theory validation\n",
    "#### Analyze the overall behaviour of defrauded accounts in two respects:\n",
    "1. The activity with compromised merchant\n",
    "2. The fraud commited each day over the month"
   ]
  },
  {
   "cell_type": "code",
   "execution_count": 15,
   "metadata": {},
   "outputs": [],
   "source": [
    "'''Re-Analyze Analyze behavior of defrauded accounts with compromised merchant'''\n",
    "# get defrauded accounts' activity with compromise merchant\n",
    "# get only data related to defrauded accounts\n",
    "defrauded_accounts_data = raw_data[raw_data.account.isin(defrauded_accounts) & \\\n",
    "                                   (raw_data.merchant == compromised_merchant)]\n",
    "# count transactions of tentative defrauded accounts with each merchants on each day\n",
    "defrauded_accounts_data = defrauded_accounts_data.loc[:, ['date', 'account']]\n",
    "transaction_no_data = defrauded_accounts_data.groupby(by='date')\n",
    "transaction_no_data = transaction_no_data.count()"
   ]
  },
  {
   "cell_type": "code",
   "execution_count": 16,
   "metadata": {},
   "outputs": [
    {
     "data": {
      "image/png": "[encoded data removed]",
      "text/plain": [
       "<matplotlib.figure.Figure at 0x10ccd9dd8>"
      ]
     },
     "metadata": {},
     "output_type": "display_data"
    }
   ],
   "source": [
    "'''Data visualization'''\n",
    "# combine both data and draw them out\n",
    "# first, reindex each data so that their shapes match each other\n",
    "new_index = pd.date_range('2015-01-01', periods=30)\n",
    "transaction_no_data = transaction_no_data.reindex(new_index, fill_value=0)\n",
    "fraud_no_data = fraud_no_data.reindex(new_index, fill_value=0)\n",
    "# do the concatenation\n",
    "defrauded_account_activity = pd.concat([transaction_no_data, fraud_no_data], axis=1)\n",
    "defrauded_account_activity = defrauded_account_activity.rename(columns={'merchant': 'fraud number', 'account': 'transaction with M18'})\n",
    "# display the graph\n",
    "defrauded_account_activity.plot(title='Defrauded accounts\\' activity')\n",
    "plt.show()"
   ]
  },
  {
   "cell_type": "markdown",
   "metadata": {},
   "source": [
    "### Comments:\n",
    "* The graph above proves that the exploitation dates are Jan 21, 22, 23\n",
    "* The graph above matches perfectly with theory (according to the document of the problem)\n",
    "* The match, on the other hand, validates our previous data analysis"
   ]
  },
  {
   "cell_type": "markdown",
   "metadata": {},
   "source": [
    "# Conclusion\n",
    "1. The compromised merchant is __M18__\n",
    "2. The harvest period is __Jan 15, 16__\n",
    "3. The exploitation period is __Jan 21, 22, 23__"
   ]
  }
 ],
 "metadata": {
  "kernelspec": {
   "display_name": "tensorflow",
   "language": "python",
   "name": "tensorflow"
  },
  "language_info": {
   "codemirror_mode": {
    "name": "ipython",
    "version": 3
   },
   "file_extension": ".py",
   "mimetype": "text/x-python",
   "name": "python",
   "nbconvert_exporter": "python",
   "pygments_lexer": "ipython3",
   "version": "3.5.4"
  }
 },
 "nbformat": 4,
 "nbformat_minor": 2
}
